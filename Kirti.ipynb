{
 "cells": [
  {
   "cell_type": "markdown",
   "id": "a91c4e2e-aa0d-415a-a5f9-b4bb5372bd0d",
   "metadata": {},
   "source": [
    "# Mini Project- Python Basics"
   ]
  },
  {
   "cell_type": "code",
   "execution_count": 77,
   "id": "dc65b9db-0572-49a4-8e50-f1d835b9736b",
   "metadata": {},
   "outputs": [
    {
     "name": "stdout",
     "output_type": "stream",
     "text": [
      "Welcome to the Library Management System\n",
      "\n"
     ]
    }
   ],
   "source": [
    "#Step1:Basic Structure\n",
    "print(\"Welcome to the Library Management System\\n\")\n",
    "library={\"Python Basics\":{\"author\": \"Test\", \"available\": True, \"issued_to\": None},\n",
    "           \"Data Science\":{\"author\": \"Test1\", \"available\": False, \"issued_to\": \"Sahil\"}\n",
    "}\n",
    "def display_books():\n",
    "    print(\"\\nList of Books:\")\n",
    "    for title, details in library.items():\n",
    "        status=\"Available\" if details[\"available\"] else f\"Issued to {details['issued_to']}\"\n",
    "        print(f\"Title: {title}, Author: {details['author']}, Status: {status}\")\n",
    "    print()\n"
   ]
  },
  {
   "cell_type": "code",
   "execution_count": 79,
   "id": "4329159e-2b01-4013-aaf3-321d0ee22a2e",
   "metadata": {},
   "outputs": [],
   "source": [
    "#Step2:Adding Books\n",
    "def add_book():\n",
    "    title=input(\"Enter book title: \")\n",
    "    author=input(\"Enter author name: \")\n",
    "    if title in library:\n",
    "        print(\"Book already exists in the system.\\n\")\n",
    "    else:\n",
    "        library[title]={\"author\": author, \"available\": True, \"issued_to\": None}\n",
    "        print(\"Book added successfully!\\n\")\n"
   ]
  },
  {
   "cell_type": "code",
   "execution_count": 81,
   "id": "3c233e27-6f71-4231-ad24-53c8b74f5c99",
   "metadata": {},
   "outputs": [],
   "source": [
    "#Step 3:Issue a book\n",
    "def issue_book():\n",
    "    title=input(\"Enter the title of the book to issue: \")\n",
    "    if title in library:\n",
    "        if library[title][\"available\"]:\n",
    "            user_name = input(\"Enter name of person issuing the book: \")\n",
    "            library[title][\"available\"]=False\n",
    "            library[title][\"issued_to\"]=user_name\n",
    "            print(f\"Book '{title}' has been issued to {user_name}.\\n\")\n",
    "        else:\n",
    "            print(f\"Book is currently issued to {library[title]['issued_to']}.\\n\")\n",
    "    else:\n",
    "        print(\"Book not found in library.\\n\")\n"
   ]
  },
  {
   "cell_type": "code",
   "execution_count": 83,
   "id": "cde95c49-a6f8-4ad6-b705-849676175963",
   "metadata": {},
   "outputs": [],
   "source": [
    "#Step 4:Return a book\n",
    "def return_book():\n",
    "    title=input(\"Enter the title of the book to return: \")\n",
    "    if title in library:\n",
    "        if not library[title][\"available\"]:\n",
    "            library[title][\"available\"]=True\n",
    "            library[title][\"issued_to\"]=None\n",
    "            print(f\"Book '{title}' has been returned successfully.\\n\")\n",
    "        else:\n",
    "            print(\"Book is not issued to anyone.\\n\")\n",
    "    else:\n",
    "        print(\"Book not found in library.\\n\")"
   ]
  },
  {
   "cell_type": "code",
   "execution_count": 85,
   "id": "5fe148f3-509c-437e-841b-049d4ec743fd",
   "metadata": {},
   "outputs": [],
   "source": [
    "#Step 5:Login system\n",
    "credentials={\"admin\": \"admin123\", \"librarian\": \"lib123\"}\n",
    "def login():\n",
    "    attempts=3\n",
    "    while attempts>0:\n",
    "        username=input(\"Enter username: \")\n",
    "        password=input(\"Enter password: \")\n",
    "        if username in credentials and credentials[username]==password:\n",
    "            print(f\"\\nLogin successful! Welcome, {username}.\\n\")\n",
    "            return True\n",
    "        else:\n",
    "            attempts-=1\n",
    "            print(f\"Invalid credentials. {attempts} attempts left.\\n\")\n",
    "    print(\"Too many failed attempts. Exiting.\")\n",
    "    return False"
   ]
  },
  {
   "cell_type": "code",
   "execution_count": 87,
   "id": "82237942-a23c-46a6-b9da-7c54d1b0a4b0",
   "metadata": {},
   "outputs": [],
   "source": [
    "#Step 6:View Issued Books\n",
    "def view_issued_books():\n",
    "    print(\"\\nIssued Books:\")\n",
    "    found = False\n",
    "    for title, details in library.items():\n",
    "        if not details[\"available\"]:\n",
    "            print(f\"Title: {title}, Issued to: {details['issued_to']}\")\n",
    "            found = True\n",
    "    if not found:\n",
    "        print(\"No books are currently issued.\")\n",
    "    print()\n"
   ]
  },
  {
   "cell_type": "code",
   "execution_count": 89,
   "id": "777cb228-b5d0-48b0-a263-9cf50d1263bc",
   "metadata": {},
   "outputs": [
    {
     "name": "stdout",
     "output_type": "stream",
     "text": [
      "Welcome to the Library Management System\n",
      "\n"
     ]
    },
    {
     "name": "stdin",
     "output_type": "stream",
     "text": [
      "Enter username:  admin\n",
      "Enter password:  admin123\n"
     ]
    },
    {
     "name": "stdout",
     "output_type": "stream",
     "text": [
      "\n",
      "Login successful! Welcome, admin.\n",
      "\n",
      "Library Menu:\n",
      "1. View Books\n",
      "2. Add a Book\n",
      "3. Issue a Book\n",
      "4. Return a Book\n",
      "5. View Issued Books\n",
      "6. Exit\n"
     ]
    },
    {
     "name": "stdin",
     "output_type": "stream",
     "text": [
      "Enter your choice (1-6):  1\n"
     ]
    },
    {
     "name": "stdout",
     "output_type": "stream",
     "text": [
      "\n",
      "List of Books:\n",
      "Title: Python Basics, Author: Test, Status: Available\n",
      "Title: Data Science, Author: Test1, Status: Issued to Sahil\n",
      "\n",
      "Library Menu:\n",
      "1. View Books\n",
      "2. Add a Book\n",
      "3. Issue a Book\n",
      "4. Return a Book\n",
      "5. View Issued Books\n",
      "6. Exit\n"
     ]
    },
    {
     "name": "stdin",
     "output_type": "stream",
     "text": [
      "Enter your choice (1-6):  2\n",
      "Enter book title:  Compiler Design\n",
      "Enter author name:  Test2\n"
     ]
    },
    {
     "name": "stdout",
     "output_type": "stream",
     "text": [
      "Book added successfully!\n",
      "\n",
      "Library Menu:\n",
      "1. View Books\n",
      "2. Add a Book\n",
      "3. Issue a Book\n",
      "4. Return a Book\n",
      "5. View Issued Books\n",
      "6. Exit\n"
     ]
    },
    {
     "name": "stdin",
     "output_type": "stream",
     "text": [
      "Enter your choice (1-6):  1\n"
     ]
    },
    {
     "name": "stdout",
     "output_type": "stream",
     "text": [
      "\n",
      "List of Books:\n",
      "Title: Python Basics, Author: Test, Status: Available\n",
      "Title: Data Science, Author: Test1, Status: Issued to Sahil\n",
      "Title: Compiler Design, Author: Test2, Status: Available\n",
      "\n",
      "Library Menu:\n",
      "1. View Books\n",
      "2. Add a Book\n",
      "3. Issue a Book\n",
      "4. Return a Book\n",
      "5. View Issued Books\n",
      "6. Exit\n"
     ]
    },
    {
     "name": "stdin",
     "output_type": "stream",
     "text": [
      "Enter your choice (1-6):  3\n",
      "Enter the title of the book to issue:  Compiler Design\n",
      "Enter name of person issuing the book:  Kirti\n"
     ]
    },
    {
     "name": "stdout",
     "output_type": "stream",
     "text": [
      "Book 'Compiler Design' has been issued to Kirti.\n",
      "\n",
      "Library Menu:\n",
      "1. View Books\n",
      "2. Add a Book\n",
      "3. Issue a Book\n",
      "4. Return a Book\n",
      "5. View Issued Books\n",
      "6. Exit\n"
     ]
    },
    {
     "name": "stdin",
     "output_type": "stream",
     "text": [
      "Enter your choice (1-6):  5\n"
     ]
    },
    {
     "name": "stdout",
     "output_type": "stream",
     "text": [
      "\n",
      "Issued Books:\n",
      "Title: Data Science, Issued to: Sahil\n",
      "Title: Compiler Design, Issued to: Kirti\n",
      "\n",
      "Library Menu:\n",
      "1. View Books\n",
      "2. Add a Book\n",
      "3. Issue a Book\n",
      "4. Return a Book\n",
      "5. View Issued Books\n",
      "6. Exit\n"
     ]
    },
    {
     "name": "stdin",
     "output_type": "stream",
     "text": [
      "Enter your choice (1-6):  4\n",
      "Enter the title of the book to return:  Compiler Design\n"
     ]
    },
    {
     "name": "stdout",
     "output_type": "stream",
     "text": [
      "Book 'Compiler Design' has been returned successfully.\n",
      "\n",
      "Library Menu:\n",
      "1. View Books\n",
      "2. Add a Book\n",
      "3. Issue a Book\n",
      "4. Return a Book\n",
      "5. View Issued Books\n",
      "6. Exit\n"
     ]
    },
    {
     "name": "stdin",
     "output_type": "stream",
     "text": [
      "Enter your choice (1-6):  6\n"
     ]
    },
    {
     "name": "stdout",
     "output_type": "stream",
     "text": [
      "Exiting the Library Management system.\n"
     ]
    }
   ],
   "source": [
    "#Step 7:Main Menu\n",
    "print(\"Welcome to the Library Management System\\n\")\n",
    "def main():\n",
    "    if not login():\n",
    "        return\n",
    "    while True:\n",
    "        print(\"Library Menu:\")\n",
    "        print(\"1. View Books\")\n",
    "        print(\"2. Add a Book\")\n",
    "        print(\"3. Issue a Book\")\n",
    "        print(\"4. Return a Book\")\n",
    "        print(\"5. View Issued Books\")\n",
    "        print(\"6. Exit\")\n",
    "        choice = input(\"Enter your choice (1-6): \")\n",
    "\n",
    "        if choice == '1':\n",
    "            display_books()\n",
    "        elif choice == '2':\n",
    "            add_book()\n",
    "        elif choice == '3':\n",
    "            issue_book()\n",
    "        elif choice == '4':\n",
    "            return_book()\n",
    "        elif choice == '5':\n",
    "            view_issued_books()\n",
    "        elif choice == '6':\n",
    "            print(\"Exiting the Library Management system.\")\n",
    "            break\n",
    "        else:\n",
    "            print(\"Invalid choice. Please try again.\\n\")\n",
    "main()\n"
   ]
  },
  {
   "cell_type": "code",
   "execution_count": null,
   "id": "9418d0a9-b985-49c3-815c-b24688d7a23e",
   "metadata": {},
   "outputs": [],
   "source": []
  }
 ],
 "metadata": {
  "kernelspec": {
   "display_name": "Python [conda env:base] *",
   "language": "python",
   "name": "conda-base-py"
  },
  "language_info": {
   "codemirror_mode": {
    "name": "ipython",
    "version": 3
   },
   "file_extension": ".py",
   "mimetype": "text/x-python",
   "name": "python",
   "nbconvert_exporter": "python",
   "pygments_lexer": "ipython3",
   "version": "3.12.7"
  }
 },
 "nbformat": 4,
 "nbformat_minor": 5
}
